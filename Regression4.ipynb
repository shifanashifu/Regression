{
  "nbformat": 4,
  "nbformat_minor": 0,
  "metadata": {
    "colab": {
      "provenance": []
    },
    "kernelspec": {
      "name": "python3",
      "display_name": "Python 3"
    },
    "language_info": {
      "name": "python"
    }
  },
  "cells": [
    {
      "cell_type": "code",
      "execution_count": null,
      "metadata": {
        "id": "IpzlDZQdtBLQ"
      },
      "outputs": [],
      "source": [
        "# Import necessary libraries\n",
        "import pandas as pd\n",
        "from sklearn.model_selection import train_test_split\n",
        "from sklearn.linear_model import LinearRegression, Lasso\n",
        "from sklearn.metrics import mean_squared_error\n",
        "import matplotlib.pyplot as plt\n",
        "\n",
        "# Step 1: Load the dataset into the Python environment\n",
        "car_data = pd.read_csv('car_dataset.csv')  # Replace 'car_dataset.csv' with your actual file path\n",
        "\n",
        "# Step 2: Explore the dataset\n",
        "print(\"Basic details of the dataset:\")\n",
        "print(car_data.info())\n",
        "print(\"\\nSummary statistics:\")\n",
        "print(car_data.describe())\n",
        "\n",
        "# Step 3: Visualize the relationship between 'Year' and 'Price'\n",
        "plt.scatter(car_data['Year'], car_data['Price'])\n",
        "plt.title('Scatter plot of Year vs Price')\n",
        "plt.xlabel('Year')\n",
        "plt.ylabel('Price')\n",
        "plt.show()\n",
        "\n",
        "# Step 4: Split the data into training and testing sets\n",
        "X = car_data[['Year']]\n",
        "y = car_data['Price']\n",
        "X_train, X_test, y_train, y_test = train_test_split(X, y, test_size=0.2, random_state=42)\n",
        "\n",
        "# Step 5: Train a Linear Regression model\n",
        "linear_reg_model = LinearRegression()\n",
        "linear_reg_model.fit(X_train, y_train)\n",
        "\n",
        "# Step 6: Train a Lasso Regression model\n",
        "lasso_reg_model = Lasso(alpha=1.0)  # You can experiment with different alpha values\n",
        "lasso_reg_model.fit(X_train, y_train)\n",
        "\n",
        "# Step 7: Make predictions and evaluate the models\n",
        "linear_reg_predictions = linear_reg_model.predict(X_test)\n",
        "lasso_reg_predictions = lasso_reg_model.predict(X_test)\n",
        "\n",
        "linear_reg_mse = mean_squared_error(y_test, linear_reg_predictions)\n",
        "lasso_reg_mse = mean_squared_error(y_test, lasso_reg_predictions)\n",
        "\n",
        "print(\"\\nLinear Regression Mean Squared Error:\", linear_reg_mse)\n",
        "print(\"Lasso Regression Mean Squared Error:\", lasso_reg_mse)\n",
        "\n",
        "# Step 8: Predict the price of a 2022 model using both models\n",
        "year_2022 = [[2022]]\n",
        "linear_reg_price_2022 = linear_reg_model.predict(year_2022)\n",
        "lasso_reg_price_2022 = lasso_reg_model.predict(year_2022)\n",
        "\n",
        "print(\"\\nPredicted Price of a 2022 model using Linear Regression:\", linear_reg_price_2022[0])\n",
        "print(\"Predicted Price of a 2022 model using Lasso Regression:\", lasso_reg_price_2022[0])\n",
        "\n"
      ]
    },
    {
      "cell_type": "code",
      "execution_count": null,
      "metadata": {
        "id": "CD16rA5xuhfM"
      },
      "outputs": [],
      "source": [
        "\n"
      ]
    },
    {
      "cell_type": "code",
      "execution_count": null,
      "metadata": {
        "id": "pQllRDLxuhmP"
      },
      "outputs": [],
      "source": [
        "\n"
      ]
    },
    {
      "cell_type": "code",
      "execution_count": null,
      "metadata": {
        "id": "HuBOOnqTuhpV"
      },
      "outputs": [],
      "source": [
        "\n"
      ]
    }
  ]
}